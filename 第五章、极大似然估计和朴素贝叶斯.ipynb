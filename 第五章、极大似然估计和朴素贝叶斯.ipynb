{
 "cells": [
  {
   "cell_type": "markdown",
   "metadata": {},
   "source": [
    "# 参数估计\n",
    "1. 概率模型的训练过程就是参数估计过程。\n",
    "2. 对于参数估计，统计学界的两个学派分别听了不同的解决方案  \n",
    "    + 频率主义学派认为参数虽然未知，但却是客观存在的固定值，因此可以通过优化似然函数等准则来确定参数值。\n",
    "    + 贝叶斯学派认为参数是未观察到的随机变量，其本身也可有分布，因此，可假定参数服从一个先验分布，然后基于观测到的数据来计算参数的后验分布。"
   ]
  },
  {
   "cell_type": "markdown",
   "metadata": {},
   "source": [
    "# 贝叶斯判定准则\n",
    "[贝叶斯](https://blog.csdn.net/qq_23947237/article/details/78265026)"
   ]
  },
  {
   "cell_type": "markdown",
   "metadata": {},
   "source": [
    "1. 贝叶斯判定准则：为最小化总体风险，只需要在每个样本上选择那个能使条件风险$R(c|x)$最小的类别标记，即\n",
    "$$h^*(\\boldsymbol{x}) = \\underset{c \\in \\mathcal{Y}}{\\arg \\min } R(c | \\boldsymbol{x})$$\n",
    "此时$h^*$称为贝叶斯最优分类器。"
   ]
  },
  {
   "cell_type": "markdown",
   "metadata": {},
   "source": [
    "2. 已知条件风险$ R(c_i | \\boldsymbol{x})$的计算公式为\n",
    "$$\n",
    "R\\left(c_{i} | \\boldsymbol{x}\\right)=\\sum_{j=1}^{N} \\lambda_{i j} P\\left(c_{j} | \\boldsymbol{x}\\right)\n",
    "$$\n",
    "若目标是最小化分类错误率，则误判损失$\\lambda_{i j}$对应为0/1损失，也即\n",
    "$$\n",
    "\\lambda_{i j}=\\left\\{\\begin{array}{l}{0, \\text { if } i=j} \\\\ {1, \\text { otherwise }}\\end{array}\\right.\n",
    "$$\n",
    "带入上式\n",
    "$$\n",
    "\\begin{aligned} R\\left(c_{i} | \\boldsymbol{x}\\right) &=1 \\times P\\left(c_{1} | \\boldsymbol{x}\\right)+\\ldots+1 \\times P\\left(c_{i-1} | \\boldsymbol{x}\\right)+\\mathbf{0} \\times P\\left(c_{i} | \\boldsymbol{x}\\right)+1 \\times P\\left(c_{i+1} | \\boldsymbol{x}\\right)+\\ldots+1 \\times P\\left(c_{N} | \\boldsymbol{x}\\right) \\\\ &=P\\left(c_{1} | \\boldsymbol{x}\\right)+\\ldots+P\\left(c_{i-1} | \\boldsymbol{x}\\right)+P\\left(c_{i+1} | \\boldsymbol{x}\\right)+\\ldots+P\\left(c_{N} | \\boldsymbol{x}\\right) \\end{aligned}\n",
    "$$\n",
    "\n",
    "由于$\\sum_{j=1}^{N} P\\left(c_{j} | \\boldsymbol{x}\\right)=1$，所以：\n",
    "$$\n",
    "R\\left(c_{i} | \\boldsymbol{x}\\right)=1-P\\left(c_{i} | \\boldsymbol{x}\\right)\n",
    "$$\n",
    "于是，最小化错误率的贝叶斯最优分类器为\n",
    "$$\n",
    "h^{*}(x)=\\underset{c \\in \\mathcal{Y}}{\\arg \\min } R(c | x)=\\underset{c \\in \\mathcal{Y}}{\\arg \\min }(1-P(c | x))=\\underset{c \\in \\mathcal{Y}}{\\arg \\max } P(c | x)\n",
    "$$"
   ]
  },
  {
   "cell_type": "markdown",
   "metadata": {},
   "source": [
    "# 多元正态分布参数的极大似然估计\n",
    "对数似然函数为：\n",
    "$$\n",
    "L L\\left(\\boldsymbol{\\theta}_{c}\\right)=\\sum_{\\boldsymbol{x} \\in D_{e}} \\log P\\left(\\boldsymbol{x} | \\boldsymbol{\\theta}_{c}\\right)\n",
    "$$\n",
    "为了便于后续计算，我们令log的底数为e，则对数似然函数可化为\n",
    "$$\n",
    "L L\\left(\\boldsymbol{\\theta}_{c}\\right)=\\sum_{\\boldsymbol{x} \\in D_{e}} \\ln P\\left(\\boldsymbol{x} | \\boldsymbol{\\theta}_{c}\\right)\n",
    "$$\n",
    "由于$P\\left(\\boldsymbol{x} | \\boldsymbol{\\theta}_{c}\\right)=P(\\boldsymbol{x} | c) \\sim \\mathcal{N}\\left(\\boldsymbol{\\mu}_{c}, \\boldsymbol{\\sigma}_{c}^{2}\\right)$，那么\n",
    "$$\n",
    "P\\left(\\boldsymbol{x} | \\boldsymbol{\\theta}_{c}\\right)=\\frac{1}{\\sqrt{(2 \\pi)^{d}\\left|\\boldsymbol{\\Sigma}_{c}\\right|}} \\exp \\left(-\\frac{1}{2}\\left(\\boldsymbol{x}-\\boldsymbol{\\mu}_{c}\\right)^{\\mathrm{T}} \\boldsymbol{\\Sigma}_{c}^{-1}\\left(\\boldsymbol{x}-\\boldsymbol{\\mu}_{c}\\right)\\right)\n",
    "$$\n",
    "其中，d表示$\\boldsymbol{x}$的维数，$\\sum_c = \\boldsymbol{\\sigma}_{c}^{2}$为对称的正定协方差矩阵，$|\\boldsymbol{\\Sigma}_{c}|$表示$\\boldsymbol{\\Sigma}_{c}$的行列式，将上式带入对数似然函数可得\n"
   ]
  },
  {
   "cell_type": "markdown",
   "metadata": {},
   "source": [
<<<<<<< HEAD
    "# EM算法"
=======
    "# 拉普拉斯修正"
>>>>>>> 3aec783d33fbd79236d222d12ee354029cb2733d
   ]
  },
  {
   "cell_type": "markdown",
   "metadata": {},
   "source": [
<<<<<<< HEAD
    "#  朴素贝叶斯"
   ]
  },
  {
   "cell_type": "code",
   "execution_count": 1,
   "metadata": {
    "ExecuteTime": {
     "end_time": "2019-07-19T11:07:20.784900Z",
     "start_time": "2019-07-19T11:07:20.297956Z"
    }
   },
   "outputs": [],
   "source": [
    "from sklearn import datasets\n",
    "iris = datasets.load_iris()"
   ]
  },
  {
   "cell_type": "code",
   "execution_count": 2,
   "metadata": {
    "ExecuteTime": {
     "end_time": "2019-07-19T11:10:25.636554Z",
     "start_time": "2019-07-19T11:10:25.612619Z"
    }
   },
   "outputs": [
    {
     "name": "stdout",
     "output_type": "stream",
     "text": [
      "Number of mislabeled points out of a total 150, points:6\n"
     ]
    }
   ],
   "source": [
    "from sklearn.naive_bayes import GaussianNB\n",
    "gnb = GaussianNB()\n",
    "y_pred = gnb.fit(iris.data, iris.target).predict(iris.data)\n",
    "print(f'Number of mislabeled points out of a total {iris.data.shape[0]}, points:{(iris.target != y_pred).sum()}')"
=======
    "为了避免其他属性携带的信息被训练集中未出现的属性值抹去(为了防止条件概率P(X|Y)出现概率为0)\n",
    "$$\n",
    "P(c)=\\frac{D c+1}{D+N}\n",
    "$$\n",
    "\n",
    "[拉普拉斯案例](https://mp.weixin.qq.com/s?__biz=MzI3NTkyMjA4NA==&mid=2247484288&idx=1&sn=e8ea0a317c58e5e191c127cddc2ceafa&chksm=eb7c2e4bdc0ba75d4de9c554dc0c194499b23fdffaf4b8a608d291025e40208eaa35d1198a77#rd)"
   ]
  },
  {
   "cell_type": "markdown",
   "metadata": {},
   "source": [
    "# EM算法(期望最大化算法)\n",
    "![](./EM.png)"
   ]
  },
  {
   "cell_type": "markdown",
   "metadata": {},
   "source": [
    "如果概率模型的变量都是观测变量，则给定数据之后，可以直接用极大似然估计法或者贝叶斯估计法来估计模型参数。  \n",
    "但是当模型含有隐变量时，就不能简单的使用这些估计方法。此时需要使用EM 算法。  \n",
    "• EM 算法是一种迭代算法。  \n",
    "• EM 算法专门用于含有隐变量的概率模型参数的极大似然估计，或者极大后验概率估计。  \n",
    "EM算法的每次迭代由两步组成：  \n",
    "• E步求期望。  \n",
    "• M步求极大。  \n",
    "所以EM算法也称为期望极大算法  "
>>>>>>> 3aec783d33fbd79236d222d12ee354029cb2733d
   ]
  },
  {
   "cell_type": "code",
   "execution_count": null,
   "metadata": {},
   "outputs": [],
   "source": []
  }
 ],
 "metadata": {
  "hide_input": false,
  "kernelspec": {
   "display_name": "Python 3",
   "language": "python",
   "name": "python3"
  },
  "language_info": {
   "codemirror_mode": {
    "name": "ipython",
    "version": 3
   },
   "file_extension": ".py",
   "mimetype": "text/x-python",
   "name": "python",
   "nbconvert_exporter": "python",
   "pygments_lexer": "ipython3",
   "version": "3.7.0"
  },
  "nbTranslate": {
   "displayLangs": [
    "*"
   ],
   "hotkey": "alt-t",
   "langInMainMenu": true,
   "sourceLang": "en",
   "targetLang": "fr",
   "useGoogleTranslate": true
  },
  "toc": {
   "base_numbering": 1,
   "nav_menu": {},
   "number_sections": true,
   "sideBar": true,
   "skip_h1_title": false,
   "title_cell": "Table of Contents",
   "title_sidebar": "Contents",
   "toc_cell": false,
   "toc_position": {},
   "toc_section_display": true,
   "toc_window_display": true
  },
  "varInspector": {
   "cols": {
    "lenName": 16,
    "lenType": 16,
    "lenVar": 40
   },
   "kernels_config": {
    "python": {
     "delete_cmd_postfix": "",
     "delete_cmd_prefix": "del ",
     "library": "var_list.py",
     "varRefreshCmd": "print(var_dic_list())"
    },
    "r": {
     "delete_cmd_postfix": ") ",
     "delete_cmd_prefix": "rm(",
     "library": "var_list.r",
     "varRefreshCmd": "cat(var_dic_list()) "
    }
   },
   "types_to_exclude": [
    "module",
    "function",
    "builtin_function_or_method",
    "instance",
    "_Feature"
   ],
   "window_display": false
  }
 },
 "nbformat": 4,
 "nbformat_minor": 2
}
