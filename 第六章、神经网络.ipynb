{
 "cells": [
  {
   "cell_type": "markdown",
   "metadata": {},
   "source": [
    "# 将线性函数$f(x)=w^{t} x$用作神经元激活函数的缺陷"
   ]
  },
  {
   "cell_type": "markdown",
   "metadata": {},
   "source": [
    "1）变化范围太大  \n",
    "2）抑制部分不能起到很好地抑制作用，即使神经元被抑制了，更新时，它的梯度仍然是和被激活的神经元一样，只不过更新的方向不同。  \n",
    "3）没有引入非线性，是最大的缺陷。题目中的x，在神经元本身的计算部分通常也是做一个线性运算，两个线性运算叠加，其实可以视作为一个线性运算，因此当数据中存在非线性时，仅使用线性函数作为激活函数是不能实现很好地区分的。"
   ]
  },
  {
   "cell_type": "markdown",
   "metadata": {},
   "source": [
    "# 激活函数的神经元与对率回归的联系"
   ]
  },
  {
   "cell_type": "markdown",
   "metadata": {},
   "source": [
    "使用sigmoid激活函数的单层神经网络在做二分类时等价于对率回归。"
   ]
  },
  {
   "cell_type": "markdown",
   "metadata": {},
   "source": [
    "# 感知机"
   ]
  },
  {
   "cell_type": "markdown",
   "metadata": {},
   "source": [
    "## 定义\n",
    "假设输入空间是$\\mathcal{X} \\subseteq R^{n}$ 输出空间是$\\mathcal{Y}=\\{1,0\\}$。输入$\\boldsymbol{x} \\in \\mathcal{X}$表示实例的特征向量，对应于输入空间的点；输出$y \\in \\mathcal{Y}$表示实例的类别。由输入空间到输出空间的如下函数\n",
    "$$\n",
    "f(\\boldsymbol{x})=\\operatorname{sgn}\\left(\\boldsymbol{w}^{T} \\boldsymbol{x}+b\\right)\n",
    "$$\n",
    "成为感知机。其中$\\boldsymbol{w}$和$b$为感知机模型参数，$sgn$是阶跃函数，即\n",
    "$$\n",
    "\\operatorname{sgn}(z)=\\left\\{\\begin{array}{ll}{1,} & {z \\geqslant 0} \\\\ {0,} & {z<0}\\end{array}\\right.\n",
    "$$"
   ]
  },
  {
   "cell_type": "markdown",
   "metadata": {},
   "source": [
    "## 几何解释\n",
    "线性方程$\\boldsymbol{w}^{T} \\boldsymbol{x}+b=0$对应于特征空间（输入空间）$R^{n}$中的一个超平面$S$,其中$\\boldsymbol{w}$是炒藕平面的法向量，$b$是超平面的截距。这个超平面将特征空间划分为两个部分。位于两边的点（特征向量）分别被氛围正、负两类。因此，超平面$S$称为分离超平面。\n",
    "![](./感知机.png)"
   ]
  },
  {
   "cell_type": "code",
   "execution_count": null,
   "metadata": {},
   "outputs": [],
   "source": []
  }
 ],
 "metadata": {
  "hide_input": false,
  "kernelspec": {
   "display_name": "Python 3",
   "language": "python",
   "name": "python3"
  },
  "language_info": {
   "codemirror_mode": {
    "name": "ipython",
    "version": 3
   },
   "file_extension": ".py",
   "mimetype": "text/x-python",
   "name": "python",
   "nbconvert_exporter": "python",
   "pygments_lexer": "ipython3",
   "version": "3.7.3"
  },
  "toc": {
   "base_numbering": 1,
   "nav_menu": {},
   "number_sections": true,
   "sideBar": true,
   "skip_h1_title": false,
   "title_cell": "Table of Contents",
   "title_sidebar": "Contents",
   "toc_cell": false,
   "toc_position": {},
   "toc_section_display": true,
   "toc_window_display": false
  },
  "varInspector": {
   "cols": {
    "lenName": 16,
    "lenType": 16,
    "lenVar": 40
   },
   "kernels_config": {
    "python": {
     "delete_cmd_postfix": "",
     "delete_cmd_prefix": "del ",
     "library": "var_list.py",
     "varRefreshCmd": "print(var_dic_list())"
    },
    "r": {
     "delete_cmd_postfix": ") ",
     "delete_cmd_prefix": "rm(",
     "library": "var_list.r",
     "varRefreshCmd": "cat(var_dic_list()) "
    }
   },
   "types_to_exclude": [
    "module",
    "function",
    "builtin_function_or_method",
    "instance",
    "_Feature"
   ],
   "window_display": false
  }
 },
 "nbformat": 4,
 "nbformat_minor": 2
}
