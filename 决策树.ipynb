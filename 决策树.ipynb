{
 "cells": [
  {
   "cell_type": "markdown",
   "metadata": {},
   "source": [
    "+ 常用的决策树方法\n",
    "  > ID3 : 采用信息增益的方式进行划分\n",
    "      1.信息熵越大，系统不确定性越大，可能性越多\n",
    "      2.信息增益越大，说明用a划分时样本提纯越大\n",
    "  > C4.5 : 采用信息增益率的方式进行划分\n",
    "      1.由于信息增益率对取数值数目较小的属性有所偏好，所以并不是选择增益率最大的，\n",
    "      而是先从候选划分中找出信息增益高于平均水平的属性，再从中选择信息增益率最高的\n",
    "  > CART: 使用基尼指数进行划分\n",
    "      1.二叉树\n",
    "      3.基尼指数越大，样本集合的不确定性越大。\n",
    "      4.基尼指数越小，说明用a划分是样本的提纯越大"
   ]
  },
  {
   "cell_type": "markdown",
   "metadata": {},
   "source": [
    "+ 信息熵\n",
    "$$Ent(D) = -\\sum_{i=1}^{i}P_ilog_2P_i $$\n",
    "+ 信息增益\n",
    "$$Gain(D,a) = Ent(D) - \\sum_{v=1}^{V}\\frac{|D^v|}{|D|}Ent(D^v)$$\n",
    "+ 信息增益率\n",
    "$$Gain_ratio(D,a) = \\frac{Gain(D,a}{IV(a)}$$\n",
    "+ 固有值（属性a）\n",
    "$$IV(a) = -\\sum_{v=1}^{V}\\frac{|D^v|}{|D|}log_2\\frac{|D^v|}{D}$$\n",
    "+ 基尼值\n",
    "$$Gini(D) = \\sum_{k=1}^{|y|}\\sum_{k^{'} \\neq k}P_kP_{k^{'}} = 1 - \\sum_{k=1}^{|y|}P_k^2$$ \n",
    "+ 基尼指数\n",
    "$$Gini_index(D,a) = \\sum_{v=1}^{V}\\frac{|D^v|}{|D|}Gini(D^v)$$"
   ]
  },
  {
   "cell_type": "markdown",
   "metadata": {},
   "source": [
    "+ ID3的缺点\n",
    "    > 1.ID3没有考虑连续特征\n",
    "    > 2.相同的条件下，取值多的特征信息增益大\n",
    "    > 3.没有考虑缺失值的情况\n",
    "    > 4.没有考虑过拟合的情况\n",
    "+ C4.5的缺点\n",
    "    > 1.剪枝方法还有优化空间\n",
    "    2.多叉树，效率低\n",
    "    3.只能用户分类\n",
    "    4.使用熵模型，里面有大量的耗时对数运算，连续值还有大量的排序运算"
   ]
  },
  {
   "cell_type": "markdown",
   "metadata": {},
   "source": [
    "+ 剪枝是决策树学习算法对付过拟合的主要手段。\n",
    "    + 预剪枝的思想是利用验证集验证划分前后的性能提升决定是否划分。 \n",
    "    + 后剪枝的思想是先从训练集生成一颗完整的决策树，然后自底向上，利用验证集进行剪枝前后的性能提升决定是否剪枝。\n",
    "+ 剪枝分为预剪枝和后剪枝。\n",
    "    + 预剪枝\n",
    "        >1.预剪枝使得决策树很多分支都没有展开降低了过拟合风险，减少了训练时间和测试时间。\n",
    "        >2.有时分支的当前划分不能提升泛化能力，甚至泛化能力可能下降，但在其基础上的后续分支可能提升泛化能力。  \n",
    "        >3.基于贪心本质，禁止这些分支展开给预剪枝带来了欠拟合的风险。\n",
    "    + 后剪枝\n",
    "        >1.一般情况下后剪枝决策树的欠拟合风险小，泛化能力优于预剪枝决策树。\n",
    "        >2.后剪枝决策树是完全生成决策树之后才进行的，训练时间开销比较大。\n",
    "+ [连续值]决策树中处理采用二分法。\n",
    "+ [缺失值]一般是先按照没有缺失值的数据进行处理。然后把缺失值分配到每一个分支中。根据分支调整后面的权重\n"
   ]
  },
  {
   "cell_type": "code",
   "execution_count": null,
   "metadata": {},
   "outputs": [],
   "source": []
  }
 ],
 "metadata": {
  "hide_input": false,
  "kernelspec": {
   "display_name": "Python 3",
   "language": "python",
   "name": "python3"
  },
  "language_info": {
   "codemirror_mode": {
    "name": "ipython",
    "version": 3
   },
   "file_extension": ".py",
   "mimetype": "text/x-python",
   "name": "python",
   "nbconvert_exporter": "python",
   "pygments_lexer": "ipython3",
   "version": "3.7.0"
  },
  "nbTranslate": {
   "displayLangs": [
    "*"
   ],
   "hotkey": "alt-t",
   "langInMainMenu": true,
   "sourceLang": "en",
   "targetLang": "fr",
   "useGoogleTranslate": true
  },
  "toc": {
   "base_numbering": 1,
   "nav_menu": {},
   "number_sections": true,
   "sideBar": true,
   "skip_h1_title": false,
   "title_cell": "Table of Contents",
   "title_sidebar": "Contents",
   "toc_cell": false,
   "toc_position": {},
   "toc_section_display": true,
   "toc_window_display": false
  },
  "varInspector": {
   "cols": {
    "lenName": 16,
    "lenType": 16,
    "lenVar": 40
   },
   "kernels_config": {
    "python": {
     "delete_cmd_postfix": "",
     "delete_cmd_prefix": "del ",
     "library": "var_list.py",
     "varRefreshCmd": "print(var_dic_list())"
    },
    "r": {
     "delete_cmd_postfix": ") ",
     "delete_cmd_prefix": "rm(",
     "library": "var_list.r",
     "varRefreshCmd": "cat(var_dic_list()) "
    }
   },
   "types_to_exclude": [
    "module",
    "function",
    "builtin_function_or_method",
    "instance",
    "_Feature"
   ],
   "window_display": false
  }
 },
 "nbformat": 4,
 "nbformat_minor": 2
}
