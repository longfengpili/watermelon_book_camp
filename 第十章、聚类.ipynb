{
 "cells": [
  {
   "cell_type": "markdown",
   "metadata": {},
   "source": [
    "# k均值聚类"
   ]
  },
  {
   "attachments": {},
   "cell_type": "markdown",
   "metadata": {},
   "source": [
    "+ 先根据设定选择k个值，然后随机选择k个样本\n",
    "+ 然后依次对数据集中每个样本，对初始k个样本进行距离计算，把对应样本放到相对应的数据集中。\n",
    "$$\n",
    "E=\\sum_{i=1}^{k} \\sum_{\\boldsymbol{x} \\in C_{i}}\\left\\|\\boldsymbol{x}-\\boldsymbol{\\mu}_{i}\\right\\|_{2}^{2}\n",
    "$$\n",
    "+ 分完后，对每个数据集求聚类中心\n",
    "+ 然后根据聚类中心再重新划分每个样本。\n",
    "+ 如此往复，直至聚类中心不再变，即完成了聚类。"
   ]
  },
  {
   "cell_type": "markdown",
   "metadata": {},
   "source": [
    "# LVQ（学习向量化）"
   ]
  },
  {
   "cell_type": "markdown",
   "metadata": {},
   "source": [
    "+ 先根据设定选择k个向量（即初始化k个值作为向量），每个值均有类别标记\n",
    "+ 然后依次计算每个样本到k个向量的距离，找出距离最近的向量\n",
    "+ 若最近的原型向量类别与样本的类别相近相同，则$\\boldsymbol{p}^{\\prime}=\\boldsymbol{p}_{i^{*}}+\\eta \\cdot\\left(\\boldsymbol{x}_{j}-\\boldsymbol{p}_{i^{*}}\\right)$；反之，$\\boldsymbol{p}^{\\prime}=\\boldsymbol{p}_{i^{*}}-\\eta \\cdot\\left(\\boldsymbol{x}_{j}-\\boldsymbol{p}_{i^{*}}\\right)$\n",
    "+ 经过不断迭代后，最终得出原型向量"
   ]
  },
  {
   "cell_type": "markdown",
   "metadata": {},
   "source": [
    "# 高斯混合聚类"
   ]
  },
  {
   "cell_type": "markdown",
   "metadata": {},
   "source": [
    "# 密度聚类"
   ]
  },
  {
   "cell_type": "code",
   "execution_count": null,
   "metadata": {},
   "outputs": [],
   "source": []
  }
 ],
 "metadata": {
  "hide_input": false,
  "kernelspec": {
   "display_name": "Python 3",
   "language": "python",
   "name": "python3"
  },
  "language_info": {
   "codemirror_mode": {
    "name": "ipython",
    "version": 3
   },
   "file_extension": ".py",
   "mimetype": "text/x-python",
   "name": "python",
   "nbconvert_exporter": "python",
   "pygments_lexer": "ipython3",
   "version": "3.7.3"
  },
  "toc": {
   "base_numbering": 1,
   "nav_menu": {},
   "number_sections": true,
   "sideBar": true,
   "skip_h1_title": false,
   "title_cell": "Table of Contents",
   "title_sidebar": "Contents",
   "toc_cell": false,
   "toc_position": {},
   "toc_section_display": true,
   "toc_window_display": false
  },
  "varInspector": {
   "cols": {
    "lenName": 16,
    "lenType": 16,
    "lenVar": 40
   },
   "kernels_config": {
    "python": {
     "delete_cmd_postfix": "",
     "delete_cmd_prefix": "del ",
     "library": "var_list.py",
     "varRefreshCmd": "print(var_dic_list())"
    },
    "r": {
     "delete_cmd_postfix": ") ",
     "delete_cmd_prefix": "rm(",
     "library": "var_list.r",
     "varRefreshCmd": "cat(var_dic_list()) "
    }
   },
   "types_to_exclude": [
    "module",
    "function",
    "builtin_function_or_method",
    "instance",
    "_Feature"
   ],
   "window_display": false
  }
 },
 "nbformat": 4,
 "nbformat_minor": 2
}
