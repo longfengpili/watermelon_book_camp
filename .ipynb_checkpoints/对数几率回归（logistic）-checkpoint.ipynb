{
 "cells": [
  {
   "cell_type": "markdown",
   "metadata": {},
   "source": [
    "1. logistic回归解决是什么问题  \n",
    "> logistic回归是解决分类问题\n",
    "<font size=5>$$y = \\frac{1}{1+e^{-x}}\\tag{lfpl}$$\n",
    "\n",
    "2. 求导过程  \n",
    "$$y = \\frac{-1 * (1 + e^{-x})^{'}}{(1 + e^{-x})^2}\\tag{2.1}$$\n",
    "\n",
    "$$y^{'} = \\frac{-1 * e^{-x} * (-1)}{(1 + e^{-x})^2}\\tag{2.2}$$\n",
    "\n",
    "$$y^{'} = \\frac{e^{-x} + 1 - 1}{(1 + e^{-x})^2}\\tag{2.3}$$\n",
    "\n",
    "$$y^{'} = \\frac{e^{-x} + 1}{(1 + e^{-x})^2} - \\frac{1}{(1 + e^{-x})^2}\\tag{2.4}$$\n",
    "\n",
    "$$y^{'} = \\frac{1}{(1 + e^{-x})} - \\frac{1}{(1 + e^{-x})^2}\\tag{2.5}$$\n",
    "\n",
    "$$y^{'} = y - y^2\\tag{2.6}$$"
   ]
  },
  {
   "cell_type": "code",
   "execution_count": null,
   "metadata": {
    "collapsed": true
   },
   "outputs": [],
   "source": []
  }
 ],
 "metadata": {
  "hide_input": false,
  "kernelspec": {
   "display_name": "Python 3",
   "language": "python",
   "name": "python3"
  },
  "language_info": {
   "codemirror_mode": {
    "name": "ipython",
    "version": 3
   },
   "file_extension": ".py",
   "mimetype": "text/x-python",
   "name": "python",
   "nbconvert_exporter": "python",
   "pygments_lexer": "ipython3",
   "version": "3.5.4"
  },
  "nbTranslate": {
   "displayLangs": [
    "*"
   ],
   "hotkey": "alt-t",
   "langInMainMenu": true,
   "sourceLang": "en",
   "targetLang": "fr",
   "useGoogleTranslate": true
  },
  "toc": {
   "base_numbering": 1,
   "nav_menu": {},
   "number_sections": true,
   "sideBar": true,
   "skip_h1_title": false,
   "title_cell": "Table of Contents",
   "title_sidebar": "Contents",
   "toc_cell": false,
   "toc_position": {},
   "toc_section_display": true,
   "toc_window_display": false
  },
  "varInspector": {
   "cols": {
    "lenName": 16,
    "lenType": 16,
    "lenVar": 40
   },
   "kernels_config": {
    "python": {
     "delete_cmd_postfix": "",
     "delete_cmd_prefix": "del ",
     "library": "var_list.py",
     "varRefreshCmd": "print(var_dic_list())"
    },
    "r": {
     "delete_cmd_postfix": ") ",
     "delete_cmd_prefix": "rm(",
     "library": "var_list.r",
     "varRefreshCmd": "cat(var_dic_list()) "
    }
   },
   "types_to_exclude": [
    "module",
    "function",
    "builtin_function_or_method",
    "instance",
    "_Feature"
   ],
   "window_display": false
  }
 },
 "nbformat": 4,
 "nbformat_minor": 2
}
