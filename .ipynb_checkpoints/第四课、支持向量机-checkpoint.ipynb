{
 "cells": [
  {
   "cell_type": "markdown",
   "metadata": {},
   "source": [
    "# 支持向量机 \n",
    "1. 谈谈SVM原理是什么？  \n",
    " SVM 是一种二类分类模型。它的基本模型是在特征空间中寻找间隔最大化的分离超平面的线性分类器。\n",
    " + 当训练样本线性可分时，通过硬间隔最大化，学习一个线性分类器，即线性可分支持向量机；\n",
    " + 当训练数据近似线性可分时，引入松弛变量，通过软间隔最大化，学习一个线性分类器，即线性支持向量机；\n",
    " + 当训练数据线性不可分时，通过使用核技巧及软间隔最大化，学习非线性支持向量机。\n",
    "以上各种情况下的数学推到应当掌握，硬间隔最大化（几何间隔）、学习的对偶问题、软间隔最大化（引入松弛变量）、非线性支持向量机（核技巧）。\n",
    "2. 为什么SVM要引入核函数？  \n",
    " ![svm](./svm2.png)\n",
    " + 当样本在原始空间线性不可分时，可将样本从原始空间映射到一个更高维的特征空间，使得样本在这个特征空间内线性可分。而引入这样的映射后，所要求解的对偶问题的求解中，无需求解真正的映射函数，而只需要知道其核函数。\n",
    " + 核函数的定义：K(x,y)=<ϕ(x),ϕ(y)>，即在特征空间的内积等于它们在原始样本空间中通过核函数 K 计算的结果。\n",
    " + 一方面数据变成了高维空间中线性可分的数据，另一方面不需要求解具体的映射函数，只需要给定具体的核函数即可，这样使得求解的难度大大降低。\n"
   ]
  },
  {
   "cell_type": "markdown",
   "metadata": {},
   "source": [
    "# SVM原始形式的推导"
   ]
  },
  {
   "cell_type": "markdown",
   "metadata": {},
   "source": [
    "## 常见的几何性质（欧式空间）\n",
    "![svm](./svm.png)"
   ]
  },
  {
   "cell_type": "markdown",
   "metadata": {},
   "source": [
    "### 法向量\n",
    "$$\n",
    "\\left\\{\\begin{array}{ll}{w^{T} x_{1}+b} & {=0} \\\\ {w^{T} x_{2}+b} & {=0} \\\\ {w^{T}\\left(x_{1}-x_{2}\\right)} & {=0}\\end{array}\\right.\n",
    "$$\n",
    "$${w}是法向量$$"
   ]
  },
  {
   "cell_type": "markdown",
   "metadata": {},
   "source": [
    "### 原点到平面的‘距离’\n",
    "$$\n",
    "\\left\\{\\begin{array}{ll}{w^{T} x_{1}+b} & {=0} \\\\ {\\lambda w^{T} \\frac{w}{\\|w\\|}+b} & {=0} \\\\ {\\text { offset }} & {=\\frac{-b}{\\|w\\|}}\\end{array}\\right.\n",
    "$$\n",
    "$$\\frac{-b}{\\|w\\|}是原点到平面的距离$$"
   ]
  },
  {
   "cell_type": "markdown",
   "metadata": {},
   "source": [
    "1. 由图可知，求距离，做垂直线（绿色的）\n",
    "\n",
    "$$\n",
    "x^{'} = \\lambda\\frac{w}{\\|w\\|}\\tag1\n",
    "$$  \n",
    "\n",
    "2. 代入${w}^{T}x_{1}+b =0$，得\n",
    "$$\\lambda {w}^{T} \\frac{w}{\\|w\\|}+b=0\\tag2$$\n",
    "3. ${w}^T{w}={\\|w\\|}^2$\n",
    "$$\\lambda{\\|w\\|} + b = 0\\tag3$$\n",
    "$$\\lambda=\\frac{-b}{\\|w\\|}\\tag4$$\n"
   ]
  },
  {
   "cell_type": "markdown",
   "metadata": {},
   "source": [
    "### 点到平面的距离\n",
    "$$\n",
    "r=\\frac{\\left|w^{T} x+b\\right|}{\\|w\\|}\n",
    "$$"
   ]
  },
  {
   "cell_type": "markdown",
   "metadata": {},
   "source": [
    "$$\n",
    "r = {\\|\\frac{{w}^T}{\\|w\\|}x\\frac{w}{\\|w\\|}-\\frac{-b}{\\|w\\|}\\frac{w}{\\|w\\|}\\|}\n",
    "$$\n",
    "\n",
    "$$继续推导$$\n",
    "\n",
    "$$\n",
    "\\begin{aligned} r &=\\left\\|\\frac{\\boldsymbol{w}^{T} \\boldsymbol{x}}{\\|\\boldsymbol{w}\\|^{2}} \\boldsymbol{w}-\\frac{-b}{\\|\\boldsymbol{w}\\|^{2}} \\boldsymbol{w}\\right\\| \\\\ &=\\left\\|\\frac{\\boldsymbol{w}^{T} \\boldsymbol{x}}{\\|\\boldsymbol{w}\\|^{2}}+\\frac{b}{\\|\\boldsymbol{w}\\|^{2}}\\right\\|\\|\\boldsymbol{w}\\| \\\\ &=\\frac{\\left\\|\\boldsymbol{w}^{T} \\boldsymbol{x}+b\\right\\|}{\\|\\boldsymbol{w}\\|} \\\\ &=\\frac{\\left|\\boldsymbol{w}^{T} \\boldsymbol{x}+b\\right|}{\\|\\boldsymbol{w}\\|} \\end{aligned}\n",
    "$$"
   ]
  },
  {
   "cell_type": "markdown",
   "metadata": {},
   "source": [
    "## SVM原始形式的推导（核心是最大化间隔）\n",
    "![最大化间隔](./svm1.png)"
   ]
  },
  {
   "cell_type": "markdown",
   "metadata": {},
   "source": [
    "$$\n",
    "r=\\frac{\\left|w^{T} x+b\\right|}{\\|w\\|}\\tag1\n",
    "$$\n",
    "\n",
    "$$假设可以分开数据集，那么任意一点到平面的距离如下：（等价1式）$$\n",
    "\n",
    "$$\n",
    "r_{i}=\\frac{y_{i}\\left(\\boldsymbol{w}^{\\mathrm{T}} \\boldsymbol{x}_{i}+b\\right)}{\\|\\boldsymbol{w}\\|}\\tag2\n",
    "$$\n",
    "$$那么最接近平面的距离$$\n",
    "$$d=\\min{(d^+,d^-)}$$\n",
    "$$\n",
    "d=\\min _{i} \\boldsymbol{y}_{i}\\left(\\frac{\\boldsymbol{w}^{T}}{\\|\\boldsymbol{w}\\|} \\boldsymbol{x}_{i}+\\frac{b}{\\|\\boldsymbol{w}\\|}\\right)\\tag3\n",
    "$$\n",
    "$$所有可能的距离中，最大的距离，是间隔的一半$$\n",
    "\n",
    "$$\n",
    "d^{*}=\\max _{w, b} \\min _{i} y_{i}\\left(\\frac{w^{T}}{\\|\\boldsymbol{w}\\|} \\boldsymbol{x}_{i}+\\frac{b}{\\|\\boldsymbol{w}\\|}\\right) \\tag4\n",
    "$$\n",
    "$$\n",
    "\\gamma=2 d^{*}=\\max _{w, b} \\min _{i} 2 \\times y_{i}\\left(\\frac{w^{T}}{\\|\\boldsymbol{w}\\|} \\boldsymbol{x}_{i}+\\frac{b}{\\|\\boldsymbol{w}\\|}\\right)\\tag5\n",
    "$$"
   ]
  },
  {
   "cell_type": "markdown",
   "metadata": {},
   "source": [
    "$$\n",
    "\\gamma=2 d^{*}=\\max _{w, b} \\min _{i} 2 \\times y_{i}\\left(\\frac{w^{T}}{\\|\\boldsymbol{w}\\|} \\boldsymbol{x}_{i}+\\frac{b}{\\|\\boldsymbol{w}\\|}\\right)\\tag1\n",
    "$$\n",
    "\n",
    "$$\n",
    "\\begin{array}{l}{\\max _{\\boldsymbol{w}, b} 2 d} \\\\ {\\text { s.t. } \\boldsymbol{y}_{i}\\left(\\frac{\\boldsymbol{w}^{T}}{\\|\\boldsymbol{w}\\|} \\boldsymbol{x}_{i}+\\frac{b}{\\|\\boldsymbol{w}\\|}\\right) \\geq d \\text { for } \\boldsymbol{i}=1, \\ldots, m} \\\\ {d>0}\\end{array}\\tag2\n",
    "$$\n",
    ">  引入新的定义：函数间隔$\\hat{d}=\\|\\boldsymbol{w}\\| d$  \n",
    "\n",
    "$$\n",
    "\\begin{array}{l}{\\max _{\\boldsymbol{w}, b} \\frac{2 \\hat{d}}{\\|\\boldsymbol{w}\\|}} \\\\ {\\text { s.t. } \\boldsymbol{y}_{i}\\left(\\boldsymbol{w}^{T} \\boldsymbol{x}_{i}+b\\right) \\geq \\hat{d} \\text { for } \\boldsymbol{i}=1, \\ldots, N} \\\\ {\\hat{d}>0}\\end{array}\\tag3\n",
    "$$\n",
    "> 实际上，$\\hat{d}$取值并不影响最优化问题的解，故取$\\hat{d}=1$  \n",
    "\n",
    "$$\n",
    "\\begin{array}{ll}{\\max _{\\boldsymbol{w}, b}} & {\\frac{2}{\\|\\boldsymbol{w}\\|}} \\\\ {\\text { s.t. }} & {\\boldsymbol{y}_{i}\\left(\\boldsymbol{w}^{T} \\boldsymbol{x}_{i}+b\\right) \\geq 1, \\quad i=1,2, \\ldots, m}\\end{array}\\tag4\n",
    "$$\n",
    "\n",
    "$$\n",
    "\\begin{aligned} \\min _{\\boldsymbol{w}, b} & \\frac{1}{2}\\|\\boldsymbol{w}\\|^{2} \\\\ \\text { s.t. } & \\boldsymbol{y}_{i}\\left(\\boldsymbol{w}^{T} \\boldsymbol{x}_{i}+b\\right) \\geq 1, \\quad i=1,2, \\ldots, m \\end{aligned}\\tag5\n",
    "$$"
   ]
  },
  {
   "cell_type": "markdown",
   "metadata": {},
   "source": [
    "# 案例"
   ]
  },
  {
   "cell_type": "markdown",
   "metadata": {},
   "source": [
    "主要调节的参数有：C、kernel、degree、gamma、coef0。\n",
    "1. C：C-SVC的惩罚参数C，默认值是1.0\n",
    "\tC越大，相当于惩罚松弛变量，希望松弛变量接近0，即对误分类的惩罚增大，趋向于对训练集全分对的情况，这样对训练集测试时准确率很高，但泛化能力弱。C值小，对误分类的惩罚减小，允许容错，将他们当成噪声点，泛化能力较强。\n",
    "2. kernel ：核函数，默认是rbf，可以是‘linear’, ‘poly’, ‘rbf’, ‘sigmoid’, ‘precomputed’  \n",
    "　　0 – 线性：$\\left\\langle x, x^{\\prime}\\right\\rangle$   \n",
    "　　1 – 多项式：$\\left(\\gamma\\left\\langle x, x^{\\prime}\\right)+r\\right)^{d}$  \n",
    "　　2 – RBF函数：$\\exp \\left(-\\gamma\\left\\|x-x^{\\prime}\\right\\|^{2}\\right)$  \n",
    "　　3 –sigmoid：$\\left(\\tanh \\left(\\gamma\\left\\langle x, x^{\\prime}\\right\\rangle+ r\\right)\\right)$  \n",
    "3. degree ：多项式poly函数的维度，默认是3，选择其他核函数时会被忽略。\n",
    "4. gamma ： ‘rbf’,‘poly’ 和‘sigmoid’的核函数参数。默认是’auto’，则会选择1/n_features\n",
    "5. coef0 ：核函数的常数项。对于‘poly’和 ‘sigmoid’有用。\n",
    "6. probability ：是否采用概率估计？.默认为False\n",
    "7. shrinking ：是否采用shrinking heuristic方法，默认为true\n",
    "8. tol ：停止训练的误差值大小，默认为1e-3\n",
    "9. cache_size ：核函数cache缓存大小，默认为200\n",
    "10. class_weight ：类别的权重，字典形式传递。设置第几类的参数C为weight*C(C-SVC中的C)\n",
    "11. verbose ：允许冗余输出？\n",
    "12. max_iter ：最大迭代次数。-1为无限制。\n",
    "13. decision_function_shape ：‘ovo’, ‘ovr’ or None, default=None3\n",
    "14. random_state ：数据洗牌时的种子值，int值"
   ]
  },
  {
   "cell_type": "code",
   "execution_count": 1,
   "metadata": {
    "ExecuteTime": {
     "end_time": "2019-07-13T09:13:51.463159Z",
     "start_time": "2019-07-13T09:13:51.431246Z"
    }
   },
   "outputs": [],
   "source": [
    "\n",
    "def make_meshgrid(x, y, h=.02):\n",
    "    \"\"\"Create a mesh of points to plot in\n",
    "    Parameters\n",
    "    ----------\n",
    "    x: data to base x-axis meshgrid on\n",
    "    y: data to base y-axis meshgrid on\n",
    "    h: stepsize for meshgrid, optional\n",
    "    Returns\n",
    "    -------\n",
    "    xx, yy : ndarray\n",
    "    \"\"\"\n",
    "    x_min, x_max = x.min() - 1, x.max() + 1\n",
    "    y_min, y_max = y.min() - 1, y.max() + 1\n",
    "    xx, yy = np.meshgrid(np.arange(x_min, x_max, h),\n",
    "                         np.arange(y_min, y_max, h))\n",
    "    return xx, yy\n",
    "\n",
    "def plot_contours(ax, clf, xx, yy, **params):\n",
    "    \"\"\"Plot the decision boundaries for a classifier.\n",
    "    Parameters\n",
    "    ----------\n",
    "    ax: matplotlib axes object\n",
    "    clf: a classifier\n",
    "    xx: meshgrid ndarray\n",
    "    yy: meshgrid ndarray\n",
    "    params: dictionary of params to pass to contourf, optional\n",
    "    \"\"\"\n",
    "    Z = clf.predict(np.c_[xx.ravel(), yy.ravel()])\n",
    "    Z = Z.reshape(xx.shape)\n",
    "    out = ax.contourf(xx, yy, Z, **params)\n",
    "    return out"
   ]
  },
  {
   "cell_type": "code",
   "execution_count": 3,
   "metadata": {
    "ExecuteTime": {
     "end_time": "2019-07-13T09:14:36.772724Z",
     "start_time": "2019-07-13T09:14:36.763759Z"
    }
   },
   "outputs": [
    {
     "data": {
      "text/plain": [
       "(150, 2)"
      ]
     },
     "execution_count": 3,
     "metadata": {},
     "output_type": "execute_result"
    }
   ],
   "source": [
    "from sklearn import svm, datasets\n",
    "# import some data to play with\n",
    "iris = datasets.load_iris()\n",
    "# Take the first two features. We could avoid this by using a two-dim dataset\n",
    "X = iris.data[:, :2]\n",
    "y = iris.target\n",
    "\n",
    "X.shape"
   ]
  },
  {
   "cell_type": "code",
   "execution_count": 6,
   "metadata": {
    "ExecuteTime": {
     "end_time": "2019-07-13T09:20:48.713644Z",
     "start_time": "2019-07-13T09:20:47.778829Z"
    }
   },
   "outputs": [
    {
     "data": {
      "text/plain": [
       "<matplotlib.contour.QuadContourSet at 0x1ee84efc668>"
      ]
     },
     "execution_count": 6,
     "metadata": {},
     "output_type": "execute_result"
    },
    {
     "data": {
      "text/plain": [
       "<matplotlib.collections.PathCollection at 0x1ee85825cf8>"
      ]
     },
     "execution_count": 6,
     "metadata": {},
     "output_type": "execute_result"
    },
    {
     "data": {
      "text/plain": [
       "(3.3, 8.880000000000006)"
      ]
     },
     "execution_count": 6,
     "metadata": {},
     "output_type": "execute_result"
    },
    {
     "data": {
      "text/plain": [
       "(1.0, 5.380000000000004)"
      ]
     },
     "execution_count": 6,
     "metadata": {},
     "output_type": "execute_result"
    },
    {
     "data": {
      "text/plain": [
       "Text(0.5, 0, 'Sepal length')"
      ]
     },
     "execution_count": 6,
     "metadata": {},
     "output_type": "execute_result"
    },
    {
     "data": {
      "text/plain": [
       "Text(0, 0.5, 'Sepal width')"
      ]
     },
     "execution_count": 6,
     "metadata": {},
     "output_type": "execute_result"
    },
    {
     "data": {
      "text/plain": [
       "[]"
      ]
     },
     "execution_count": 6,
     "metadata": {},
     "output_type": "execute_result"
    },
    {
     "data": {
      "text/plain": [
       "[]"
      ]
     },
     "execution_count": 6,
     "metadata": {},
     "output_type": "execute_result"
    },
    {
     "data": {
      "text/plain": [
       "Text(0.5, 1.0, 'SVC with linear kernel')"
      ]
     },
     "execution_count": 6,
     "metadata": {},
     "output_type": "execute_result"
    },
    {
     "data": {
      "text/plain": [
       "<matplotlib.contour.QuadContourSet at 0x1ee85d7fb00>"
      ]
     },
     "execution_count": 6,
     "metadata": {},
     "output_type": "execute_result"
    },
    {
     "data": {
      "text/plain": [
       "<matplotlib.collections.PathCollection at 0x1ee857195f8>"
      ]
     },
     "execution_count": 6,
     "metadata": {},
     "output_type": "execute_result"
    },
    {
     "data": {
      "text/plain": [
       "(3.3, 8.880000000000006)"
      ]
     },
     "execution_count": 6,
     "metadata": {},
     "output_type": "execute_result"
    },
    {
     "data": {
      "text/plain": [
       "(1.0, 5.380000000000004)"
      ]
     },
     "execution_count": 6,
     "metadata": {},
     "output_type": "execute_result"
    },
    {
     "data": {
      "text/plain": [
       "Text(0.5, 0, 'Sepal length')"
      ]
     },
     "execution_count": 6,
     "metadata": {},
     "output_type": "execute_result"
    },
    {
     "data": {
      "text/plain": [
       "Text(0, 0.5, 'Sepal width')"
      ]
     },
     "execution_count": 6,
     "metadata": {},
     "output_type": "execute_result"
    },
    {
     "data": {
      "text/plain": [
       "[]"
      ]
     },
     "execution_count": 6,
     "metadata": {},
     "output_type": "execute_result"
    },
    {
     "data": {
      "text/plain": [
       "[]"
      ]
     },
     "execution_count": 6,
     "metadata": {},
     "output_type": "execute_result"
    },
    {
     "data": {
      "text/plain": [
       "Text(0.5, 1.0, 'LinearSVC (linear kernel)')"
      ]
     },
     "execution_count": 6,
     "metadata": {},
     "output_type": "execute_result"
    },
    {
     "data": {
      "text/plain": [
       "<matplotlib.contour.QuadContourSet at 0x1ee856612b0>"
      ]
     },
     "execution_count": 6,
     "metadata": {},
     "output_type": "execute_result"
    },
    {
     "data": {
      "text/plain": [
       "<matplotlib.collections.PathCollection at 0x1ee85d38160>"
      ]
     },
     "execution_count": 6,
     "metadata": {},
     "output_type": "execute_result"
    },
    {
     "data": {
      "text/plain": [
       "(3.3, 8.880000000000006)"
      ]
     },
     "execution_count": 6,
     "metadata": {},
     "output_type": "execute_result"
    },
    {
     "data": {
      "text/plain": [
       "(1.0, 5.380000000000004)"
      ]
     },
     "execution_count": 6,
     "metadata": {},
     "output_type": "execute_result"
    },
    {
     "data": {
      "text/plain": [
       "Text(0.5, 0, 'Sepal length')"
      ]
     },
     "execution_count": 6,
     "metadata": {},
     "output_type": "execute_result"
    },
    {
     "data": {
      "text/plain": [
       "Text(0, 0.5, 'Sepal width')"
      ]
     },
     "execution_count": 6,
     "metadata": {},
     "output_type": "execute_result"
    },
    {
     "data": {
      "text/plain": [
       "[]"
      ]
     },
     "execution_count": 6,
     "metadata": {},
     "output_type": "execute_result"
    },
    {
     "data": {
      "text/plain": [
       "[]"
      ]
     },
     "execution_count": 6,
     "metadata": {},
     "output_type": "execute_result"
    },
    {
     "data": {
      "text/plain": [
       "Text(0.5, 1.0, 'SVC with RBF kernel')"
      ]
     },
     "execution_count": 6,
     "metadata": {},
     "output_type": "execute_result"
    },
    {
     "data": {
      "text/plain": [
       "<matplotlib.contour.QuadContourSet at 0x1ee85631390>"
      ]
     },
     "execution_count": 6,
     "metadata": {},
     "output_type": "execute_result"
    },
    {
     "data": {
      "text/plain": [
       "<matplotlib.collections.PathCollection at 0x1ee85b1abe0>"
      ]
     },
     "execution_count": 6,
     "metadata": {},
     "output_type": "execute_result"
    },
    {
     "data": {
      "text/plain": [
       "(3.3, 8.880000000000006)"
      ]
     },
     "execution_count": 6,
     "metadata": {},
     "output_type": "execute_result"
    },
    {
     "data": {
      "text/plain": [
       "(1.0, 5.380000000000004)"
      ]
     },
     "execution_count": 6,
     "metadata": {},
     "output_type": "execute_result"
    },
    {
     "data": {
      "text/plain": [
       "Text(0.5, 0, 'Sepal length')"
      ]
     },
     "execution_count": 6,
     "metadata": {},
     "output_type": "execute_result"
    },
    {
     "data": {
      "text/plain": [
       "Text(0, 0.5, 'Sepal width')"
      ]
     },
     "execution_count": 6,
     "metadata": {},
     "output_type": "execute_result"
    },
    {
     "data": {
      "text/plain": [
       "[]"
      ]
     },
     "execution_count": 6,
     "metadata": {},
     "output_type": "execute_result"
    },
    {
     "data": {
      "text/plain": [
       "[]"
      ]
     },
     "execution_count": 6,
     "metadata": {},
     "output_type": "execute_result"
    },
    {
     "data": {
      "text/plain": [
       "Text(0.5, 1.0, 'SVC with polynomial (degree 3) kernel')"
      ]
     },
     "execution_count": 6,
     "metadata": {},
     "output_type": "execute_result"
    },
    {
     "data": {
      "image/png": "[encoded data removed]",
      "text/plain": [
       "<Figure size 720x720 with 4 Axes>"
      ]
     },
     "metadata": {},
     "output_type": "display_data"
    }
   ],
   "source": [
    "C = 1.0  # SVM regularization parameter\n",
    "models = (svm.SVC(kernel='linear', C=C),\n",
    "        svm.LinearSVC(C=C, max_iter=10000),\n",
    "        svm.SVC(kernel='rbf', gamma=0.7, C=C),\n",
    "        svm.SVC(kernel='poly', degree=3, gamma='auto', C=C))\n",
    "models = (clf.fit(X, y) for clf in models)\n",
    "\n",
    "# title for the plots\n",
    "titles = ('SVC with linear kernel',\n",
    "        'LinearSVC (linear kernel)',\n",
    "        'SVC with RBF kernel',\n",
    "        'SVC with polynomial (degree 3) kernel')\n",
    "\n",
    "# Set-up 2x2 grid for plotting.\n",
    "fig, sub = plt.subplots(2, 2, figsize=(10,10))\n",
    "plt.subplots_adjust(wspace=0.4, hspace=0.4)\n",
    "\n",
    "X0, X1 = X[:, 0], X[:, 1]\n",
    "xx, yy = make_meshgrid(X0, X1)\n",
    "\n",
    "for clf, title, ax in zip(models, titles, sub.flatten()):\n",
    "    plot_contours(ax, clf, xx, yy,cmap=plt.cm.coolwarm, alpha=0.8)\n",
    "    ax.scatter(X0, X1, c=y, cmap=plt.cm.coolwarm, s=20, edgecolors='k')\n",
    "    ax.set_xlim(xx.min(), xx.max())\n",
    "    ax.set_ylim(yy.min(), yy.max())\n",
    "    ax.set_xlabel('Sepal length')\n",
    "    ax.set_ylabel('Sepal width')\n",
    "    ax.set_xticks(())\n",
    "    ax.set_yticks(())\n",
    "    ax.set_title(title)"
   ]
  },
  {
   "cell_type": "code",
   "execution_count": null,
   "metadata": {},
   "outputs": [],
   "source": []
  }
 ],
 "metadata": {
  "hide_input": false,
  "kernelspec": {
   "display_name": "Python 3",
   "language": "python",
   "name": "python3"
  },
  "language_info": {
   "codemirror_mode": {
    "name": "ipython",
    "version": 3
   },
   "file_extension": ".py",
   "mimetype": "text/x-python",
   "name": "python",
   "nbconvert_exporter": "python",
   "pygments_lexer": "ipython3",
   "version": "3.7.3"
  },
  "toc": {
   "base_numbering": 1,
   "nav_menu": {},
   "number_sections": true,
   "sideBar": true,
   "skip_h1_title": false,
   "title_cell": "Table of Contents",
   "title_sidebar": "Contents",
   "toc_cell": false,
   "toc_position": {},
   "toc_section_display": true,
   "toc_window_display": true
  },
  "varInspector": {
   "cols": {
    "lenName": 16,
    "lenType": 16,
    "lenVar": 40
   },
   "kernels_config": {
    "python": {
     "delete_cmd_postfix": "",
     "delete_cmd_prefix": "del ",
     "library": "var_list.py",
     "varRefreshCmd": "print(var_dic_list())"
    },
    "r": {
     "delete_cmd_postfix": ") ",
     "delete_cmd_prefix": "rm(",
     "library": "var_list.r",
     "varRefreshCmd": "cat(var_dic_list()) "
    }
   },
   "types_to_exclude": [
    "module",
    "function",
    "builtin_function_or_method",
    "instance",
    "_Feature"
   ],
   "window_display": false
  }
 },
 "nbformat": 4,
 "nbformat_minor": 2
}
