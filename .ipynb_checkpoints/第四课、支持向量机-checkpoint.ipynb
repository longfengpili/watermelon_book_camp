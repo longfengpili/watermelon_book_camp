{
 "cells": [
  {
   "cell_type": "markdown",
   "metadata": {},
   "source": [
    "# 支持向量机\n",
    "支持向量机就是基于训练集D在样本空间找到一个划分超平面，并且使得样本集中所有的数据到这个超平面的距离最短，或者说最大化间隔。"
   ]
  },
  {
   "cell_type": "markdown",
   "metadata": {},
   "source": [
    "# SVM原始形式的推到"
   ]
  },
  {
   "cell_type": "markdown",
   "metadata": {},
   "source": [
    "## 常见的几何性质（欧式空间）\n",
    "![svm](./svm.png)"
   ]
  },
  {
   "cell_type": "markdown",
   "metadata": {},
   "source": [
    "### 法向量\n",
    "$$\n",
    "\\left\\{\\begin{array}{ll}{w^{T} x_{1}+b} & {=0} \\\\ {w^{T} x_{2}+b} & {=0} \\\\ {w^{T}\\left(x_{1}-x_{2}\\right)} & {=0}\\end{array}\\right.\n",
    "$$\n",
    "$${w}是法向量$$"
   ]
  },
  {
   "cell_type": "markdown",
   "metadata": {},
   "source": [
    "### 原点到平面的‘距离’\n",
    "$$\n",
    "\\left\\{\\begin{array}{ll}{w^{T} x_{1}+b} & {=0} \\\\ {\\lambda w^{T} \\frac{w}{\\|w\\|}+b} & {=0} \\\\ {\\text { offset }} & {=\\frac{-b}{\\|w\\|}}\\end{array}\\right.\n",
    "$$\n",
    "$$\\frac{-b}{\\|w\\|}是原点到平面的距离$$"
   ]
  },
  {
   "cell_type": "markdown",
   "metadata": {},
   "source": [
    "1. 由图可知，求距离，做垂直线（绿色的）\n",
    "\n",
    "$$\n",
    "x^{'} = \\lambda\\frac{w}{\\|w\\|}\\tag1\n",
    "$$  \n",
    "\n",
    "2. 代入${w}^{T}x_{1}+b =0$，得\n",
    "$$\\lambda {w}^{T} \\frac{w}{\\|w\\|}+b=0\\tag2$$\n",
    "3. ${w}^T{w}={\\|w\\|}^2$\n",
    "$$\\lambda{\\|w\\|} + b = 0\\tag3$$\n",
    "$$\\lambda=\\frac{-b}{\\|w\\|}\\tag4$$\n"
   ]
  },
  {
   "cell_type": "markdown",
   "metadata": {},
   "source": [
    "### 点到平面的距离\n",
    "$$\n",
    "r=\\frac{\\left|w^{T} x+b\\right|}{\\|w\\|}\n",
    "$$"
   ]
  },
  {
   "cell_type": "markdown",
   "metadata": {},
   "source": [
    "$$\n",
    "r = {\\|\\frac{{w}^T}{\\|w\\|}x\\frac{w}{\\|w\\|}-\\frac{-b}{\\|w\\|}\\frac{w}{\\|w\\|}\\|}\n",
    "$$\n",
    "\n",
    "$$继续推导$$\n",
    "\n",
    "$$\n",
    "\\begin{aligned} r &=\\left\\|\\frac{\\boldsymbol{w}^{T} \\boldsymbol{x}}{\\|\\boldsymbol{w}\\|^{2}} \\boldsymbol{w}-\\frac{-b}{\\|\\boldsymbol{w}\\|^{2}} \\boldsymbol{w}\\right\\| \\\\ &=\\left\\|\\frac{\\boldsymbol{w}^{T} \\boldsymbol{x}}{\\|\\boldsymbol{w}\\|^{2}}+\\frac{b}{\\|\\boldsymbol{w}\\|^{2}}\\right\\|\\|\\boldsymbol{w}\\| \\\\ &=\\frac{\\left\\|\\boldsymbol{w}^{T} \\boldsymbol{x}+b\\right\\|}{\\|\\boldsymbol{w}\\|} \\\\ &=\\frac{\\left|\\boldsymbol{w}^{T} \\boldsymbol{x}+b\\right|}{\\|\\boldsymbol{w}\\|} \\end{aligned}\n",
    "$$"
   ]
  },
  {
   "cell_type": "markdown",
   "metadata": {},
   "source": [
    "## SVM原始形式的推导（核心是最大化间隔）\n",
    "![最大化间隔](./svm1.png)"
   ]
  },
  {
   "cell_type": "markdown",
   "metadata": {},
   "source": [
    "$$\n",
    "r=\\frac{\\left|w^{T} x+b\\right|}{\\|w\\|}\\tag1\n",
    "$$\n",
    "\n",
    "$$假设可以分开数据集，那么任意一点到平面的距离如下：（等价1式）$$\n",
    "\n",
    "$$\n",
    "r_{i}=\\frac{y_{i}\\left(\\boldsymbol{w}^{\\mathrm{T}} \\boldsymbol{x}_{i}+b\\right)}{\\|\\boldsymbol{w}\\|}\\tag2\n",
    "$$\n",
    "$$那么最接近平面的距离$$\n",
    "$$d=\\min{(d^+,d^-)}$$\n",
    "$$\n",
    "d=\\min _{i} \\boldsymbol{y}_{i}\\left(\\frac{\\boldsymbol{w}^{T}}{\\|\\boldsymbol{w}\\|} \\boldsymbol{x}_{i}+\\frac{b}{\\|\\boldsymbol{w}\\|}\\right)\\tag3\n",
    "$$\n",
    "$$所有可能的距离中，最大的距离，是间隔的一半$$\n",
    "\n",
    "$$\n",
    "d^{*}=\\max _{w, b} \\min _{i} y_{i}\\left(\\frac{w^{T}}{\\|\\boldsymbol{w}\\|} \\boldsymbol{x}_{i}+\\frac{b}{\\|\\boldsymbol{w}\\|}\\right) \\tag4\n",
    "$$\n",
    "$$\n",
    "\\gamma=2 d^{*}=\\max _{w, b} \\min _{i} 2 \\times y_{i}\\left(\\frac{w^{T}}{\\|\\boldsymbol{w}\\|} \\boldsymbol{x}_{i}+\\frac{b}{\\|\\boldsymbol{w}\\|}\\right)\\tag5\n",
    "$$"
   ]
  },
  {
   "cell_type": "markdown",
   "metadata": {},
   "source": [
    "$$\n",
    "\\gamma=2 d^{*}=\\max _{w, b} \\min _{i} 2 \\times y_{i}\\left(\\frac{w^{T}}{\\|\\boldsymbol{w}\\|} \\boldsymbol{x}_{i}+\\frac{b}{\\|\\boldsymbol{w}\\|}\\right)\\tag1\n",
    "$$\n",
    "\n",
    "$$\n",
    "\\begin{array}{l}{\\max _{\\boldsymbol{w}, b} 2 d} \\\\ {\\text { s.t. } \\boldsymbol{y}_{i}\\left(\\frac{\\boldsymbol{w}^{T}}{\\|\\boldsymbol{w}\\|} \\boldsymbol{x}_{i}+\\frac{b}{\\|\\boldsymbol{w}\\|}\\right) \\geq d \\text { for } \\boldsymbol{i}=1, \\ldots, m} \\\\ {d>0}\\end{array}\\tag2\n",
    "$$\n",
    ">  引入新的定义：函数间隔$\\hat{d}=\\|\\boldsymbol{w}\\| d$  \n",
    "\n",
    "$$\n",
    "\\begin{array}{l}{\\max _{\\boldsymbol{w}, b} \\frac{2 \\hat{d}}{\\|\\boldsymbol{w}\\|}} \\\\ {\\text { s.t. } \\boldsymbol{y}_{i}\\left(\\boldsymbol{w}^{T} \\boldsymbol{x}_{i}+b\\right) \\geq \\hat{d} \\text { for } \\boldsymbol{i}=1, \\ldots, N} \\\\ {\\hat{d}>0}\\end{array}\\tag3\n",
    "$$\n",
    "> 实际上，$\\hat{d}$取值并不影响最优化问题的解，故取$\\hat{d}=1$  \n",
    "\n",
    "$$\n",
    "\\begin{array}{ll}{\\max _{\\boldsymbol{w}, b}} & {\\frac{2}{\\|\\boldsymbol{w}\\|}} \\\\ {\\text { s.t. }} & {\\boldsymbol{y}_{i}\\left(\\boldsymbol{w}^{T} \\boldsymbol{x}_{i}+b\\right) \\geq 1, \\quad i=1,2, \\ldots, m}\\end{array}\\tag4\n",
    "$$\n",
    "\n",
    "$$\n",
    "\\begin{aligned} \\min _{\\boldsymbol{w}, b} & \\frac{1}{2}\\|\\boldsymbol{w}\\|^{2} \\\\ \\text { s.t. } & \\boldsymbol{y}_{i}\\left(\\boldsymbol{w}^{T} \\boldsymbol{x}_{i}+b\\right) \\geq 1, \\quad i=1,2, \\ldots, m \\end{aligned}\\tag5\n",
    "$$"
   ]
  }
 ],
 "metadata": {
  "hide_input": false,
  "kernelspec": {
   "display_name": "Python 3",
   "language": "python",
   "name": "python3"
  },
  "language_info": {
   "codemirror_mode": {
    "name": "ipython",
    "version": 3
   },
   "file_extension": ".py",
   "mimetype": "text/x-python",
   "name": "python",
   "nbconvert_exporter": "python",
   "pygments_lexer": "ipython3",
   "version": "3.7.3"
  },
  "toc": {
   "base_numbering": 1,
   "nav_menu": {},
   "number_sections": true,
   "sideBar": true,
   "skip_h1_title": false,
   "title_cell": "Table of Contents",
   "title_sidebar": "Contents",
   "toc_cell": false,
   "toc_position": {},
   "toc_section_display": true,
   "toc_window_display": false
  },
  "varInspector": {
   "cols": {
    "lenName": 16,
    "lenType": 16,
    "lenVar": 40
   },
   "kernels_config": {
    "python": {
     "delete_cmd_postfix": "",
     "delete_cmd_prefix": "del ",
     "library": "var_list.py",
     "varRefreshCmd": "print(var_dic_list())"
    },
    "r": {
     "delete_cmd_postfix": ") ",
     "delete_cmd_prefix": "rm(",
     "library": "var_list.r",
     "varRefreshCmd": "cat(var_dic_list()) "
    }
   },
   "types_to_exclude": [
    "module",
    "function",
    "builtin_function_or_method",
    "instance",
    "_Feature"
   ],
   "window_display": false
  }
 },
 "nbformat": 4,
 "nbformat_minor": 2
}
