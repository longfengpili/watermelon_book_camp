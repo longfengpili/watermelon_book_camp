{
 "cells": [
  {
   "cell_type": "markdown",
   "metadata": {},
   "source": [
    "+ boosting是一族可将弱学习器升级为强学习器的算法。先从初始数据训练一个基学习器，再根据基学习器的表现对训练样本分布进行调整，使得先前基学习器做错的样本在后续获得更多的关注，然后基于调整后的样本分布来训练下一个基学习器，如此往复，直至基学习器的数目达到指定的数目T，再将这T个基学习器进行加权结合。\n",
    "+ bagging是通过放回随机采样的方式，采样出T个含m个样本的采样集，然后针对采样集训练一个基学习器，再将这些学习器进行结合。通常对分类任务采用简单投票法，对回归任务采用简单平均法。\n",
    "+ stacking（树行）是指通过初级学习器和次级学习器组合进行预测的一种方式。与bagging（并行），boosting（串行）并列。\n",
    "具体原理我们先将数据分为训练集M和测试集N，对训练集进行k折交叉验证，然后对测试集进行预测。得到交叉验证中的k个验证集结果，将k个验证集的预测结果合并得到M个预测结果M1，。同时对测试集预测，得到k个测试结果，对此平均处理N1。\n",
    "综上，得到了一个模型的结果。\n",
    "然后在使用其他模型得出（M2，N2），（M3，N3）……\n",
    "然后使用[M1，M2，M3……，Y]作为训练集，[N1，N2，N3……，Y]作为训练集进行预测\n",
    "![stacking](./stacking.png)"
   ]
  },
  {
   "cell_type": "code",
   "execution_count": 4,
   "metadata": {
    "ExecuteTime": {
     "end_time": "2019-08-16T05:52:58.795039Z",
     "start_time": "2019-08-16T05:52:58.630040Z"
    }
   },
   "outputs": [
    {
     "name": "stdout",
     "output_type": "stream",
     "text": [
      "Loading data...\n",
      "Starting training...\n",
      "[1]\tvalid_0's l1: 0.491812\tvalid_0's l2: 0.24288\n",
      "Training until validation scores don't improve for 5 rounds.\n",
      "[2]\tvalid_0's l1: 0.48798\tvalid_0's l2: 0.239307\n",
      "[3]\tvalid_0's l1: 0.483905\tvalid_0's l2: 0.235559\n",
      "[4]\tvalid_0's l1: 0.478533\tvalid_0's l2: 0.230771\n",
      "[5]\tvalid_0's l1: 0.47333\tvalid_0's l2: 0.226297\n",
      "[6]\tvalid_0's l1: 0.470079\tvalid_0's l2: 0.223692\n",
      "[7]\tvalid_0's l1: 0.466768\tvalid_0's l2: 0.220941\n",
      "[8]\tvalid_0's l1: 0.462971\tvalid_0's l2: 0.217982\n",
      "[9]\tvalid_0's l1: 0.459474\tvalid_0's l2: 0.215351\n",
      "[10]\tvalid_0's l1: 0.45619\tvalid_0's l2: 0.213064\n",
      "[11]\tvalid_0's l1: 0.4532\tvalid_0's l2: 0.211053\n",
      "[12]\tvalid_0's l1: 0.450526\tvalid_0's l2: 0.209336\n",
      "[13]\tvalid_0's l1: 0.447621\tvalid_0's l2: 0.207492\n",
      "[14]\tvalid_0's l1: 0.445178\tvalid_0's l2: 0.206016\n",
      "[15]\tvalid_0's l1: 0.442718\tvalid_0's l2: 0.204677\n",
      "[16]\tvalid_0's l1: 0.440293\tvalid_0's l2: 0.203224\n",
      "[17]\tvalid_0's l1: 0.437015\tvalid_0's l2: 0.201186\n",
      "[18]\tvalid_0's l1: 0.434725\tvalid_0's l2: 0.199626\n",
      "[19]\tvalid_0's l1: 0.432653\tvalid_0's l2: 0.198689\n",
      "[20]\tvalid_0's l1: 0.430279\tvalid_0's l2: 0.197377\n",
      "Did not meet early stopping. Best iteration is:\n",
      "[20]\tvalid_0's l1: 0.430279\tvalid_0's l2: 0.197377\n",
      "Saving model...\n"
     ]
    },
    {
     "data": {
      "text/plain": [
       "<lightgbm.basic.Booster at 0x20da8964438>"
      ]
     },
     "execution_count": 4,
     "metadata": {},
     "output_type": "execute_result"
    },
    {
     "name": "stdout",
     "output_type": "stream",
     "text": [
      "Starting predicting...\n",
      "The rmse of prediction is: 0.44427172467679765\n"
     ]
    }
   ],
   "source": [
    "# coding: utf-8\n",
    "# pylint: disable = invalid-name, C0111\n",
    "import lightgbm as lgb\n",
    "import pandas as pd\n",
    "from sklearn.metrics import mean_squared_error\n",
    "\n",
    "print('Loading data...')\n",
    "# load or create your dataset\n",
    "df_train = pd.read_csv('./regression.train', header=None, sep='\\t')\n",
    "df_test = pd.read_csv('./regression.test', header=None, sep='\\t')\n",
    "\n",
    "y_train = df_train[0]\n",
    "y_test = df_test[0]\n",
    "X_train = df_train.drop(0, axis=1)\n",
    "X_test = df_test.drop(0, axis=1)\n",
    "\n",
    "# create dataset for lightgbm\n",
    "lgb_train = lgb.Dataset(X_train, y_train)\n",
    "lgb_eval = lgb.Dataset(X_test, y_test, reference=lgb_train)\n",
    "\n",
    "# specify your configurations as a dict\n",
    "params = {\n",
    "    'boosting_type': 'gbdt',\n",
    "    'objective': 'regression',\n",
    "    'metric': {'l2', 'l1'},\n",
    "    'num_leaves': 31,\n",
    "    'learning_rate': 0.05,\n",
    "    'feature_fraction': 0.9,\n",
    "    'bagging_fraction': 0.8,\n",
    "    'bagging_freq': 5,\n",
    "    'verbose': 0\n",
    "}\n",
    "\n",
    "print('Starting training...')\n",
    "# train\n",
    "gbm = lgb.train(params,\n",
    "                lgb_train,\n",
    "                num_boost_round=20,\n",
    "                valid_sets=lgb_eval,\n",
    "                early_stopping_rounds=5)\n",
    "\n",
    "print('Saving model...')\n",
    "# save model to file\n",
    "gbm.save_model('model.txt')\n",
    "\n",
    "print('Starting predicting...')\n",
    "# predict\n",
    "y_pred = gbm.predict(X_test, num_iteration=gbm.best_iteration)\n",
    "# eval\n",
    "print('The rmse of prediction is:', mean_squared_error(y_test, y_pred) ** 0.5)"
   ]
  },
  {
   "cell_type": "code",
   "execution_count": null,
   "metadata": {},
   "outputs": [],
   "source": []
  }
 ],
 "metadata": {
  "hide_input": false,
  "kernelspec": {
   "display_name": "Python 3",
   "language": "python",
   "name": "python3"
  },
  "language_info": {
   "codemirror_mode": {
    "name": "ipython",
    "version": 3
   },
   "file_extension": ".py",
   "mimetype": "text/x-python",
   "name": "python",
   "nbconvert_exporter": "python",
   "pygments_lexer": "ipython3",
   "version": "3.7.3"
  },
  "nbTranslate": {
   "displayLangs": [
    "*"
   ],
   "hotkey": "alt-t",
   "langInMainMenu": true,
   "sourceLang": "en",
   "targetLang": "fr",
   "useGoogleTranslate": true
  },
  "toc": {
   "base_numbering": 1,
   "nav_menu": {},
   "number_sections": true,
   "sideBar": true,
   "skip_h1_title": false,
   "title_cell": "Table of Contents",
   "title_sidebar": "Contents",
   "toc_cell": false,
   "toc_position": {},
   "toc_section_display": true,
   "toc_window_display": false
  },
  "varInspector": {
   "cols": {
    "lenName": 16,
    "lenType": 16,
    "lenVar": 40
   },
   "kernels_config": {
    "python": {
     "delete_cmd_postfix": "",
     "delete_cmd_prefix": "del ",
     "library": "var_list.py",
     "varRefreshCmd": "print(var_dic_list())"
    },
    "r": {
     "delete_cmd_postfix": ") ",
     "delete_cmd_prefix": "rm(",
     "library": "var_list.r",
     "varRefreshCmd": "cat(var_dic_list()) "
    }
   },
   "types_to_exclude": [
    "module",
    "function",
    "builtin_function_or_method",
    "instance",
    "_Feature"
   ],
   "window_display": false
  }
 },
 "nbformat": 4,
 "nbformat_minor": 2
}
